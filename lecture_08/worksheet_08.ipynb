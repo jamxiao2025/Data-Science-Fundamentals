{
 "cells": [
  {
   "attachments": {},
   "cell_type": "markdown",
   "metadata": {},
   "source": [
    "# Worksheet 08\n",
    "\n",
    "Name:  \n",
    "UID: \n",
    "\n",
    "### Topics\n",
    "\n",
    "- Soft Clustering\n",
    "- Clustering Aggregation\n",
    "\n",
    "### Probability Review\n",
    "\n",
    "Read through [the following](https://medium.com/@gallettilance/overview-of-probability-3272b72c82c8)\n",
    "\n",
    "### Soft Clustering\n",
    "\n",
    "We generate 10 data points that come from a normal distribution with mean 5 and variance 1."
   ]
  },
  {
   "cell_type": "code",
   "execution_count": 1,
   "metadata": {},
   "outputs": [
    {
     "name": "stdout",
     "output_type": "stream",
     "text": [
      "[5.571425061036498, 4.084481410417218, 5.71187504883994, 4.870290673001325, 5.206220910766344, 5.899532887812484, 4.427300652829605, 6.732987072061121, 3.834657887270695, 5.571719292131711]\n"
     ]
    }
   ],
   "source": [
    "import random\n",
    "import numpy as np\n",
    "from sklearn.cluster import KMeans\n",
    "\n",
    "mean = 5\n",
    "stdev = 1\n",
    "\n",
    "c1 = np.random.normal(mean, stdev, 10).tolist()\n",
    "print(c1)"
   ]
  },
  {
   "cell_type": "markdown",
   "metadata": {},
   "source": [
    "a) Generate 10 more data points, this time coming from a normal distribution with mean 8 and variance 1."
   ]
  },
  {
   "cell_type": "code",
   "execution_count": 2,
   "metadata": {},
   "outputs": [
    {
     "name": "stdout",
     "output_type": "stream",
     "text": [
      "[7.70641928914293, 7.2879378185693104, 8.070172811242438, 6.61864237271875, 8.225452715904622, 6.521694737370276, 8.299789128109644, 5.733746343740268, 5.674618503816273, 7.864772126510419]\n"
     ]
    }
   ],
   "source": [
    "mean = 8\n",
    "variance = 1\n",
    "c2 = np.random.normal(mean, np.sqrt(variance), 10).tolist()\n",
    "print(c2)\n"
   ]
  },
  {
   "cell_type": "markdown",
   "metadata": {},
   "source": [
    "b) Flip a fair coin 10 times. If the coin lands on H, then pick the last data point of `c1` and remove it from `c1`, if T then pick the last data point from `c2` and remove it from `c2`. Add these 10 points to a list called `data`."
   ]
  },
  {
   "cell_type": "code",
   "execution_count": 4,
   "metadata": {},
   "outputs": [
    {
     "name": "stdout",
     "output_type": "stream",
     "text": [
      "[5.899532887812484, 6.61864237271875, 5.206220910766344, 8.070172811242438, 7.2879378185693104, 4.870290673001325, 7.70641928914293, 5.71187504883994, 4.084481410417218]\n"
     ]
    }
   ],
   "source": [
    "import random\n",
    "\n",
    "data = []\n",
    "\n",
    "# Simulate 10 coin tosses\n",
    "for _ in range(10):\n",
    "    coin_output = random.choice(['H', 'T'])  # 'H' for heads, 'T' for tails\n",
    "    if coin_output == 'H':\n",
    "        # If heads, pick the last data point from c1 and remove it\n",
    "        if c1:\n",
    "            p1 = c1.pop()\n",
    "            data.append(p1)\n",
    "    else:\n",
    "        # If tails, pick the last data point from c2 and remove it\n",
    "        if c2:\n",
    "            p2 = c2.pop()\n",
    "            data.append(p2)\n",
    "\n",
    "print(data)\n"
   ]
  },
  {
   "cell_type": "markdown",
   "metadata": {},
   "source": [
    "c) This `data` is a Gaussian Mixture Distribution with 2 mixture components. Over the next few questions we will walk through the GMM algorithm to see if we can uncover the parameters we used to generate this data. First, please list all these parameters of the GMM that created `data` and the values we know they have."
   ]
  },
  {
   "cell_type": "markdown",
   "metadata": {},
   "source": [
    "Number of Components (K): The number of Gaussian components in the mixture.\n",
    "Value: K = 2 (two mixture components).\n",
    "Mixing Coefficients (π): The weights or probabilities associated with each component, indicating the likelihood of selecting a component.\n",
    "Values: π1 and π2 (the actual values are not provided).\n",
    "Component Means (μ): The mean vector for each component, representing the center of the Gaussian distribution.\n",
    "Values: μ1 and μ2 (the actual values are not provided).\n",
    "Component Covariance Matrices (Σ): The covariance matrices for each component, describing the spread and shape of the distribution.\n",
    "Values: Σ1 and Σ2 (the actual values are not provided)."
   ]
  },
  {
   "cell_type": "markdown",
   "metadata": {},
   "source": [
    "d) Let's assume there are two mixture components (note: we could plot the data and make the observation that there are two clusters). The EM algorithm asks us to start with a random `mean_j`, `variance_j`, `P(C_j)` for each component j. One method we could use to find sensible values for these is to apply K means with k=2 here.\n",
    "\n",
    "1. the centroids would be the estimates of the `mean_j`\n",
    "2. the intra-cluster variance could be the estimate of `variance_j`\n",
    "3. the proportion of points in each cluster could be the estimate of `P(C_j)`\n",
    "\n",
    "Go through this process and list the parameter estimates it gives. Are they close or far from the true values?"
   ]
  },
  {
   "cell_type": "code",
   "execution_count": 5,
   "metadata": {},
   "outputs": [
    {
     "name": "stdout",
     "output_type": "stream",
     "text": [
      "P(C_1) = 0.5555555555555556, P(C_2) = 0.4444444444444444\n",
      "mean_1 = 5.154480186167462, mean_2 = 7.420793072918357\n",
      "var_1 = 0.4188261446489722, var_2 = 0.29109316109487193\n"
     ]
    },
    {
     "name": "stderr",
     "output_type": "stream",
     "text": [
      "/Users/jamesxiao/opt/anaconda3/lib/python3.9/site-packages/sklearn/cluster/_kmeans.py:870: FutureWarning: The default value of `n_init` will change from 10 to 'auto' in 1.4. Set the value of `n_init` explicitly to suppress the warning\n",
      "  warnings.warn(\n"
     ]
    }
   ],
   "source": [
    "from sklearn.cluster import KMeans\n",
    "\n",
    "# Fit a K-Means model with k=2\n",
    "kmeans = KMeans(n_clusters=2, init='k-means++').fit(X=np.array(data).reshape(-1, 1))\n",
    "\n",
    "# Separate data points into two clusters based on K-Means labels\n",
    "c1 = [x[0] for x in filter(lambda x: x[1] == 0, zip(data, kmeans.labels_))]\n",
    "c2 = [x[0] for x in filter(lambda x: x[1] == 1, zip(data, kmeans.labels_))]\n",
    "\n",
    "# Estimate the proportion of points in each cluster (P(C_j))\n",
    "prob_c = [len(c1) / (len(c1) + len(c2)), len(c2) / (len(c1) + len(c2))]\n",
    "\n",
    "# Estimate the means of each cluster (mean_j)\n",
    "mean = [sum(c1) / len(c1), sum(c2) / len(c2)]\n",
    "\n",
    "# Estimate the variances of each cluster (variance_j)\n",
    "var = [sum(map(lambda x: (x - mean[0])**2, c1)) / len(c1), sum(map(lambda x: (x - mean[1])**2, c2)) / len(c2)]\n",
    "\n",
    "# Print the parameter estimates\n",
    "print(\"P(C_1) = \" + str(prob_c[0]) + \", P(C_2) = \" + str(prob_c[1]))\n",
    "print(\"mean_1 = \" + str(mean[0]) + \", mean_2 = \" + str(mean[1]))\n",
    "print(\"var_1 = \" + str(var[0]) + \", var_2 = \" + str(var[1]))\n"
   ]
  },
  {
   "cell_type": "markdown",
   "metadata": {},
   "source": []
  },
  {
   "cell_type": "markdown",
   "metadata": {},
   "source": [
    "e) For each data point, compute `P(C_j | X_i)`. Comment on which cluster you think each point belongs to based on the estimated probabilities. How does that compare to the truth?"
   ]
  },
  {
   "cell_type": "code",
   "execution_count": 6,
   "metadata": {},
   "outputs": [
    {
     "name": "stdout",
     "output_type": "stream",
     "text": [
      "Point = 5.899532887812484\n",
      "Probability of coming from C_1 = 0.9999934283937861\n",
      "Probability of coming from C_2 = 6.571606213876505e-06\n",
      "Belongs to Cluster 1\n",
      "\n",
      "Point = 6.61864237271875\n",
      "Probability of coming from C_1 = 0.07911561208249299\n",
      "Probability of coming from C_2 = 0.920884387917507\n",
      "Belongs to Cluster 2\n",
      "\n",
      "Point = 5.206220910766344\n",
      "Probability of coming from C_1 = 0.9999999999996865\n",
      "Probability of coming from C_2 = 3.135418043597016e-13\n",
      "Belongs to Cluster 1\n",
      "\n",
      "Point = 8.070172811242438\n",
      "Probability of coming from C_1 = 3.1320034501418517e-10\n",
      "Probability of coming from C_2 = 0.9999999996867996\n",
      "Belongs to Cluster 2\n",
      "\n",
      "Point = 7.2879378185693104\n",
      "Probability of coming from C_1 = 2.236902858410256e-06\n",
      "Probability of coming from C_2 = 0.9999977630971415\n",
      "Belongs to Cluster 2\n",
      "\n",
      "Point = 4.870290673001325\n",
      "Probability of coming from C_1 = 1.0\n",
      "Probability of coming from C_2 = 3.0962214976341344e-17\n",
      "Belongs to Cluster 1\n",
      "\n",
      "Point = 7.70641928914293\n",
      "Probability of coming from C_1 = 1.2197257001127734e-08\n",
      "Probability of coming from C_2 = 0.999999987802743\n",
      "Belongs to Cluster 2\n",
      "\n",
      "Point = 5.71187504883994\n",
      "Probability of coming from C_1 = 0.9999999084386711\n",
      "Probability of coming from C_2 = 9.156132885087093e-08\n",
      "Belongs to Cluster 1\n",
      "\n",
      "Point = 4.084481410417218\n",
      "Probability of coming from C_1 = 1.0\n",
      "Probability of coming from C_2 = 8.984688127058113e-28\n",
      "Belongs to Cluster 1\n",
      "\n"
     ]
    }
   ],
   "source": [
    "from scipy.stats import norm\n",
    "\n",
    "prob_c0_x = []  # P(C_0 | X_i)\n",
    "prob_c1_x = []  # P(C_1 | X_i)\n",
    "\n",
    "k = 2\n",
    "\n",
    "for p in data:\n",
    "    pdf_i = []\n",
    "\n",
    "    for j in range(k):\n",
    "        # P(X_i | C_j)\n",
    "        pdf_i.append(norm.pdf(p, mean[j], var[j]))\n",
    "\n",
    "    # P(X_i) = P(C_0)P(X_i | C_0) + P(C_1)P(X_i | C_1)\n",
    "    prob_x_i = prob_c[0] * pdf_i[0] + prob_c[1] * pdf_i[1]\n",
    "\n",
    "    # P(C_j | X_i) = P(X_i | C_j)P(C_j) / P(X_i)\n",
    "    prob_c0_x_i = (pdf_i[0] * prob_c[0]) / prob_x_i\n",
    "    prob_c1_x_i = (pdf_i[1] * prob_c[1]) / prob_x_i\n",
    "\n",
    "    prob_c0_x.append(prob_c0_x_i)\n",
    "    prob_c1_x.append(prob_c1_x_i)\n",
    "\n",
    "# Iterate over the computed probabilities and make a comment on cluster membership\n",
    "for p, prob_c0, prob_c1 in zip(data, prob_c0_x, prob_c1_x):\n",
    "    print(\"Point =\", p)\n",
    "    print(\"Probability of coming from C_1 =\", prob_c0)\n",
    "    print(\"Probability of coming from C_2 =\", prob_c1)\n",
    "    if prob_c0 > prob_c1:\n",
    "        print(\"Belongs to Cluster 1\")\n",
    "    else:\n",
    "        print(\"Belongs to Cluster 2\")\n",
    "    print()\n"
   ]
  },
  {
   "cell_type": "markdown",
   "metadata": {},
   "source": [
    "f) Having computed `P(C_j | X_i)`, update the estimates of `mean_j`, `var_j`, and `P(C_j)`. How different are these values from the original ones you got from K means? briefly comment."
   ]
  },
  {
   "cell_type": "code",
   "execution_count": 7,
   "metadata": {},
   "outputs": [
    {
     "name": "stdout",
     "output_type": "stream",
     "text": [
      "Updated Estimates:\n",
      "P(C_1) = 0.5643456887031059, P(C_2) = 0.4356543112968942\n",
      "mean_1 = 5.177286921480467, mean_2 = 7.436976338178086\n",
      "var_1 = 244.1327776841843, var_2 = 678.9609740596803\n"
     ]
    }
   ],
   "source": [
    "prob_c = [sum(prob_c0_x) / len(prob_c0_x), sum(prob_c1_x) / len(prob_c1_x)]\n",
    "mean = [sum([x[0] * x[1] for x in zip(prob_c0_x, data)]) / sum(prob_c0_x), sum([x[0] * x[1] for x in zip(prob_c1_x, data)]) / sum(prob_c1_x)]\n",
    "var = [sum([x[1] * (x[0] - mean[0])**2 for x in zip(prob_c0_x, data)]) / sum(prob_c0_x), sum([x[1] * (x[0] - mean[1])**2 for x in zip(prob_c1_x, data)]) / sum(prob_c1_x)]\n",
    "\n",
    "print(\"Updated Estimates:\")\n",
    "print(\"P(C_1) = \" + str(prob_c[0]) + \", P(C_2) = \" + str(prob_c[1]))\n",
    "print(\"mean_1 = \" + str(mean[0]) + \", mean_2 = \" + str(mean[1]))\n",
    "print(\"var_1 = \" + str(var[0]) + \", var_2 = \" + str(var[1]))\n"
   ]
  },
  {
   "cell_type": "markdown",
   "metadata": {},
   "source": []
  },
  {
   "cell_type": "markdown",
   "metadata": {},
   "source": [
    "g) Update `P(C_j | X_i)`. Comment on any differences or lack thereof you observe."
   ]
  },
  {
   "cell_type": "code",
   "execution_count": 8,
   "metadata": {},
   "outputs": [
    {
     "name": "stdout",
     "output_type": "stream",
     "text": [
      "Point = 5.899532887812484\n",
      "Updated Probability of coming from C_1 = 0.7827334901542756\n",
      "Updated Probability of coming from C_2 = 0.21726650984572432\n",
      "Likely belongs to Cluster 1\n",
      "\n",
      "Point = 6.61864237271875\n",
      "Updated Probability of coming from C_1 = 0.7827309579549819\n",
      "Updated Probability of coming from C_2 = 0.21726904204501807\n",
      "Likely belongs to Cluster 1\n",
      "\n",
      "Point = 5.206220910766344\n",
      "Updated Probability of coming from C_1 = 0.782734715058031\n",
      "Updated Probability of coming from C_2 = 0.21726528494196898\n",
      "Likely belongs to Cluster 1\n",
      "\n",
      "Point = 8.070172811242438\n",
      "Updated Probability of coming from C_1 = 0.7827219325692611\n",
      "Updated Probability of coming from C_2 = 0.2172780674307388\n",
      "Likely belongs to Cluster 1\n",
      "\n",
      "Point = 7.2879378185693104\n",
      "Updated Probability of coming from C_1 = 0.7827274467891696\n",
      "Updated Probability of coming from C_2 = 0.21727255321083044\n",
      "Likely belongs to Cluster 1\n",
      "\n",
      "Point = 4.870290673001325\n",
      "Updated Probability of coming from C_1 = 0.7827348790588577\n",
      "Updated Probability of coming from C_2 = 0.21726512094114223\n",
      "Likely belongs to Cluster 1\n",
      "\n",
      "Point = 7.70641928914293\n",
      "Updated Probability of coming from C_1 = 0.7827246858959305\n",
      "Updated Probability of coming from C_2 = 0.21727531410406956\n",
      "Likely belongs to Cluster 1\n",
      "\n",
      "Point = 5.71187504883994\n",
      "Updated Probability of coming from C_1 = 0.7827339395718801\n",
      "Updated Probability of coming from C_2 = 0.21726606042812\n",
      "Likely belongs to Cluster 1\n",
      "\n",
      "Point = 4.084481410417218\n",
      "Updated Probability of coming from C_1 = 0.7827341677108377\n",
      "Updated Probability of coming from C_2 = 0.21726583228916227\n",
      "Likely belongs to Cluster 1\n",
      "\n"
     ]
    }
   ],
   "source": [
    "prob_c0_x = []  # P(C_0 | X_i)\n",
    "prob_c1_x = []  # P(C_1 | X_i)\n",
    "\n",
    "k = 2\n",
    "\n",
    "for p in data:\n",
    "    pdf_i = []\n",
    "\n",
    "    for j in range(k):\n",
    "        # P(X_i | C_j)\n",
    "        pdf_i.append(norm.pdf(p, mean[j], var[j]))\n",
    "\n",
    "    # P(X_i) = P(C_0)P(X_i | C_0) + P(C_1)P(X_i | C_1)\n",
    "    prob_x_i = prob_c[0] * pdf_i[0] + prob_c[1] * pdf_i[1]\n",
    "\n",
    "    # P(C_j | X_i) = P(X_i | C_j)P(C_j) / P(X_i)\n",
    "    prob_c0_x_i = (pdf_i[0] * prob_c[0]) / prob_x_i\n",
    "    prob_c1_x_i = (pdf_i[1] * prob_c[1]) / prob_x_i\n",
    "\n",
    "    prob_c0_x.append(prob_c0_x_i)\n",
    "    prob_c1_x.append(prob_c1_x_i)\n",
    "\n",
    "# Iterate over the computed probabilities and make a comment on cluster membership\n",
    "for p, prob_c0, prob_c1 in zip(data, prob_c0_x, prob_c1_x):\n",
    "    print(\"Point =\", p)\n",
    "    print(\"Updated Probability of coming from C_1 =\", prob_c0)\n",
    "    print(\"Updated Probability of coming from C_2 =\", prob_c1)\n",
    "    if prob_c0 > prob_c1:\n",
    "        print(\"Likely belongs to Cluster 1\")\n",
    "    else:\n",
    "        print(\"Likely belongs to Cluster 2\")\n",
    "    print()\n"
   ]
  },
  {
   "cell_type": "markdown",
   "metadata": {},
   "source": []
  },
  {
   "cell_type": "markdown",
   "metadata": {},
   "source": [
    "h) Use `P(C_j | X_i)` to create a hard assignment - label each point as belonging to a specific cluster (0 or 1)"
   ]
  },
  {
   "cell_type": "code",
   "execution_count": 9,
   "metadata": {},
   "outputs": [
    {
     "name": "stdout",
     "output_type": "stream",
     "text": [
      "Cluster Assignments:\n",
      "Point 5.899532887812484 is assigned to Cluster 0\n",
      "Point 6.61864237271875 is assigned to Cluster 0\n",
      "Point 5.206220910766344 is assigned to Cluster 0\n",
      "Point 8.070172811242438 is assigned to Cluster 0\n",
      "Point 7.2879378185693104 is assigned to Cluster 0\n",
      "Point 4.870290673001325 is assigned to Cluster 0\n",
      "Point 7.70641928914293 is assigned to Cluster 0\n",
      "Point 5.71187504883994 is assigned to Cluster 0\n",
      "Point 4.084481410417218 is assigned to Cluster 0\n"
     ]
    }
   ],
   "source": [
    "# Initialize an empty list for cluster assignments\n",
    "cluster_assignments = []\n",
    "\n",
    "# Iterate over the computed probabilities and make a hard assignment\n",
    "for prob_c0, prob_c1 in zip(prob_c0_x, prob_c1_x):\n",
    "    if prob_c0 > prob_c1:\n",
    "        cluster_assignments.append(0)  # Assign to Cluster 0\n",
    "    else:\n",
    "        cluster_assignments.append(1)  # Assign to Cluster 1\n",
    "\n",
    "# Print the cluster assignments for each point\n",
    "print(\"Cluster Assignments:\")\n",
    "for i, assignment in enumerate(cluster_assignments):\n",
    "    print(f\"Point {data[i]} is assigned to Cluster {assignment}\")\n"
   ]
  },
  {
   "cell_type": "markdown",
   "metadata": {},
   "source": [
    "### Clustering Aggregation\n",
    "\n",
    "| Point | C | P |\n",
    "|-------|---|---|\n",
    "| A     | 0 | a |\n",
    "| B     | 0 | b |\n",
    "| C     | 2 | b |\n",
    "| D     | 1 | c |\n",
    "| E     | 1 | d |\n",
    "\n",
    "a) Fill in the following table where for each pair of points determine whether C and P agree or disagree on how to cluster that pair."
   ]
  },
  {
   "cell_type": "markdown",
   "metadata": {},
   "source": [
    "| Pair | Disagreement |\n",
    "|------|--------------|\n",
    "| A  B |      Y       |\n",
    "| A  C |      Y       |\n",
    "| A  D |      N       |\n",
    "| A  E |      Y       |\n",
    "| B  C |      N       |\n",
    "| B  D |      Y       |\n",
    "| B  E |      Y       |\n",
    "| C  D |      Y       |\n",
    "| C  E |      N       |\n",
    "| D  E |      Y       |\n"
   ]
  },
  {
   "cell_type": "markdown",
   "metadata": {},
   "source": [
    "As datasets become very large, this process can become computationally challenging.\n",
    "\n",
    "b) Given N points, what is the formula for the number of unique pairs of points one can create?"
   ]
  },
  {
   "cell_type": "markdown",
   "metadata": {},
   "source": [
    "The formula for calculating the number of unique pairs of points that can be created from N points is given by the binomial coefficient formula, often denoted as \"n choose 2\" or \"C(n, 2).\" It's expressed as:\n",
    "\n",
    "\\[C(n, 2) = \\frac{n(n-1)}{2}\\]\n",
    "\n",
    "Where:\n",
    "- \\(C(n, 2)\\) is the number of unique pairs of points.\n",
    "- \\(n\\) is the total number of points.\n",
    "\n",
    "This formula represents the number of ways to choose two distinct points from a set of \\(n\\) points, which gives you all possible unique pairs of points."
   ]
  },
  {
   "cell_type": "markdown",
   "metadata": {},
   "source": [
    "Assume that clustering C clusters all points in the same cluster and clustering P clusters points as such:\n",
    "\n",
    "| Point | P |\n",
    "|-------|---|\n",
    "| A     | 0 |\n",
    "| B     | 0 |\n",
    "| C     | 0 |\n",
    "| D     | 1 |\n",
    "| E     | 1 |\n",
    "| F     | 2 |\n",
    "| G     | 2 |\n",
    "| H     | 2 |\n",
    "| I     | 2 |\n",
    "\n",
    "c) What is the maximum number of disagreements there could be for a dataset of this size? (use the formula from b)?"
   ]
  },
  {
   "cell_type": "markdown",
   "metadata": {},
   "source": [
    "36"
   ]
  },
  {
   "cell_type": "markdown",
   "metadata": {},
   "source": [
    "d) If we look at cluster 0. There are (3 x 2) / 2 = 3 pairs that agree with C (since all points in C are in the same cluster). For each cluster, determine how many agreements there are. How many total agreements are there? How many disagreements does that mean there are between C and P?"
   ]
  },
  {
   "cell_type": "markdown",
   "metadata": {},
   "source": [
    "Let's determine the number of agreements and disagreements between clustering methods C and P for each cluster:\n",
    "\n",
    "1. For Cluster 0 (P):\n",
    "   - Number of pairs within Cluster 0 (P) that agree with C = \\((3 \\cdot 2) / 2 = 3\\) pairs (as all points in C are in the same cluster).\n",
    "   - Number of pairs within Cluster 0 (P) that disagree with C = \\((3 \\cdot 2) / 2 - 3 = 0\\) pairs.\n",
    "\n",
    "2. For Cluster 1 (P):\n",
    "   - Number of pairs within Cluster 1 (P) that agree with C = \\((2 \\cdot 1) / 2 = 1\\) pair.\n",
    "   - Number of pairs within Cluster 1 (P) that disagree with C = \\((2 \\cdot 1) / 2 - 1 = 0\\) pair.\n",
    "\n",
    "3. For Cluster 2 (P):\n",
    "   - Number of pairs within Cluster 2 (P) that agree with C = \\((4 \\cdot 3) / 2 = 6\\) pairs.\n",
    "   - Number of pairs within Cluster 2 (P) that disagree with C = \\((4 \\cdot 3) / 2 - 6 = 6\\) pairs.\n",
    "\n",
    "Now, let's calculate the total number of agreements and disagreements:\n",
    "\n",
    "- Total agreements between C and P = \\(3 + 1 + 6 = 10\\) agreements.\n",
    "- Total disagreements between C and P = \\(0 + 0 + 6 = 6\\) disagreements.\n",
    "\n",
    "So, there are a total of 10 agreements and 6 disagreements between clustering methods C and P for all clusters."
   ]
  },
  {
   "cell_type": "markdown",
   "metadata": {},
   "source": [
    "e) Assuming that filtering the dataset by cluster number is a computationally easy operation, describe an algorithm inspired by the above process that can efficiently compute disagreement distances on large datasets."
   ]
  },
  {
   "cell_type": "markdown",
   "metadata": {},
   "source": [
    "To efficiently compute disagreement distances on large datasets, we can use a divide-and-conquer algorithm inspired by the process described above. This algorithm breaks down the dataset into smaller manageable chunks and computes the disagreements separately for each cluster. Here's an outline of the algorithm:\n",
    "\n",
    "1. Divide the large dataset into smaller chunks or clusters based on a chosen criterion. The number of clusters or chunks should be reasonably small to ensure efficiency.\n",
    "\n",
    "2. For each cluster:\n",
    "   - Calculate the number of agreements and disagreements between clustering methods C and P within that cluster.\n",
    "   - Keep track of these counts for each cluster.\n",
    "\n",
    "3. Repeat steps 1 and 2 for all clusters or chunks.\n",
    "\n",
    "4. Compute the total number of agreements and disagreements by summing the counts from all clusters.\n",
    "\n",
    "5. Report the overall agreement and disagreement metrics.\n",
    "\n",
    "By using this divide-and-conquer approach, we can efficiently compute disagreement distances on large datasets because we're processing smaller chunks of data at a time, reducing the computational complexity. Additionally, parallel processing or distributed computing can be employed to further speed up the computation of disagreements within each cluster. This approach allows for scalability and efficient handling of large datasets."
   ]
  }
 ],
 "metadata": {
  "interpreter": {
   "hash": "76ca05dc3ea24b2e3b98cdb7774adfbb40773424bf5109b477fd793f623715af"
  },
  "kernelspec": {
   "display_name": "Python 3.9.9 64-bit ('env': venv)",
   "language": "python",
   "name": "python3"
  },
  "language_info": {
   "codemirror_mode": {
    "name": "ipython",
    "version": 3
   },
   "file_extension": ".py",
   "mimetype": "text/x-python",
   "name": "python",
   "nbconvert_exporter": "python",
   "pygments_lexer": "ipython3",
   "version": "3.9.7"
  },
  "orig_nbformat": 4
 },
 "nbformat": 4,
 "nbformat_minor": 2
}
