{
 "cells": [
  {
   "attachments": {},
   "cell_type": "markdown",
   "metadata": {},
   "source": [
    "# Worksheet 03\n",
    "\n",
    "Name:  James Xiao\n",
    "UID: U71216947\n",
    "\n",
    "### Topics\n",
    "\n",
    "- Intro to DS\n",
    "\n",
    "### Linear Algebra Review\n",
    "\n",
    "If you need a linear algebra review, please read through the [following pdf](https://github.com/gallettilance/CS506-Spring2023/raw/main/worksheets/lecture_03_linear_algebra_review.pdf) before next class\n",
    "\n",
    "### Intro to Data Science\n",
    "\n",
    "a) what property must a hypothesis have?"
   ]
  },
  {
   "cell_type": "markdown",
   "metadata": {},
   "source": [
    "It could be proven wrong"
   ]
  },
  {
   "cell_type": "markdown",
   "metadata": {},
   "source": [
    "b) what examples would you have wanted to try?"
   ]
  },
  {
   "cell_type": "markdown",
   "metadata": {},
   "source": [
    "Negative numbers, and numbers outside of the small range we were given. "
   ]
  },
  {
   "cell_type": "markdown",
   "metadata": {},
   "source": [
    "c) Poll 1"
   ]
  },
  {
   "cell_type": "markdown",
   "metadata": {},
   "source": []
  },
  {
   "cell_type": "markdown",
   "metadata": {},
   "source": [
    "d) Given the hypothesis (x, 2x, 3x), for each of the following, determine whether they are positive or negative examples:\n",
    "\n",
    "- (2, 4, 6)\n",
    "- (6, 8 , 10)\n",
    "- (1, 3, 5)"
   ]
  },
  {
   "cell_type": "markdown",
   "metadata": {},
   "source": [
    "positive\n",
    "negative\n",
    "negative"
   ]
  },
  {
   "cell_type": "markdown",
   "metadata": {},
   "source": [
    "e) Poll 2"
   ]
  },
  {
   "cell_type": "markdown",
   "metadata": {},
   "source": []
  },
  {
   "attachments": {},
   "cell_type": "markdown",
   "metadata": {},
   "source": [
    "f) Describe steps of a Data Science Workflow"
   ]
  },
  {
   "cell_type": "markdown",
   "metadata": {},
   "source": [
    "First ask what and who the model is used / intended for \n",
    "    - is it just the general trend that is important of the exact predictions that are important? Is this a problem that needs predictive tools to solve?\n",
    "Process Data -> Explore Data -> Extract Features -> Create Model (Iterative Cycle)\n",
    "Data Processing:\n",
    "    What data should and shouldn't be used\n",
    "    What to do with missing data\n",
    "    What to do with inconsistent data \n",
    "    What assumptions are you making when transforming the data\n",
    "Exploratory Data Analysis\n",
    "    Describe, contextualize, and visualize the data \n",
    "    Understand the problem and the context within the data is being used \n",
    "    Be curious\n",
    "Exract Features\n",
    "     transforming raw data into numerical features that can be processed while preserving the information in the original data set\n",
    "\n",
    "Create Model\n",
    "    garbage in, garbage out. is your model easy to explain? The success of this model is strongly determined by the quality of the previous steps"
   ]
  },
  {
   "attachments": {},
   "cell_type": "markdown",
   "metadata": {},
   "source": [
    "g) Give a real world example for each of the following data types:\n",
    "\n",
    "- record\n",
    "- graph\n",
    "- image\n",
    "- text"
   ]
  },
  {
   "cell_type": "markdown",
   "metadata": {},
   "source": [
    "Records (tuples of integers, strings, etc) vectors in n-dimensional space: (name, age, balance) CSV files??\n",
    "Graph (nodes connected by edges): network, subway map, \n",
    "Image (2d matrix of pixels): an image lol \n",
    "Text (list of words): a paragraph from a news article. "
   ]
  },
  {
   "attachments": {},
   "cell_type": "markdown",
   "metadata": {},
   "source": [
    "h) Give a real world example of unsupervised learning"
   ]
  },
  {
   "cell_type": "markdown",
   "metadata": {},
   "source": [
    "Unsupervised learning: find interesting structure in data\n",
    "    Clustering - group points by proximity\n",
    "\n",
    "1. Better understand data\n",
    "2. Extract Features\n",
    "3. Fill in gaps \n",
    "4. Make learning algorithms faster \n",
    "\n",
    "Businesses often use unsupervised learning to segment their customers based on purchasing behavior, demographics, or other data. This can help in targeted marketing and product recommendations. For instance, a retail company might use clustering algorithms to identify different customer segments such as \"budget shoppers,\" \"luxury buyers,\" and \"occasional buyers.\""
   ]
  },
  {
   "attachments": {},
   "cell_type": "markdown",
   "metadata": {},
   "source": [
    "i) Give a real world example of supervised learning"
   ]
  },
  {
   "cell_type": "markdown",
   "metadata": {},
   "source": [
    "Find a trend (fitting a graph) and provide predictions based off of the graph.\n",
    "Regression, classificiation.\n",
    "\n",
    "Defining wether email is spam or not"
   ]
  }
 ],
 "metadata": {
  "kernelspec": {
   "display_name": "Python 3",
   "language": "python",
   "name": "python3"
  },
  "language_info": {
   "codemirror_mode": {
    "name": "ipython",
    "version": 3
   },
   "file_extension": ".py",
   "mimetype": "text/x-python",
   "name": "python",
   "nbconvert_exporter": "python",
   "pygments_lexer": "ipython3",
   "version": "3.11.1 (main, Dec  7 2022, 00:00:00) [GCC 12.2.1 20221121 (Red Hat 12.2.1-4)]"
  },
  "orig_nbformat": 4,
  "vscode": {
   "interpreter": {
    "hash": "e7370f93d1d0cde622a1f8e1c04877d8463912d04d973331ad4851f04de6915a"
   }
  }
 },
 "nbformat": 4,
 "nbformat_minor": 2
}
